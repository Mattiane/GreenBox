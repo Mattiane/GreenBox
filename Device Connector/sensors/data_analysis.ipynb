{
 "cells": [
  {
   "cell_type": "code",
   "execution_count": 1,
   "id": "initial_id",
   "metadata": {
    "collapsed": true,
    "ExecuteTime": {
     "end_time": "2024-03-14T09:48:42.501964Z",
     "start_time": "2024-03-14T09:48:41.062823Z"
    }
   },
   "outputs": [],
   "source": [
    "import pandas as pd"
   ]
  },
  {
   "cell_type": "code",
   "outputs": [
    {
     "name": "stderr",
     "output_type": "stream",
     "text": [
      "C:\\Users\\marzi\\AppData\\Local\\Temp\\ipykernel_11092\\2372810164.py:2: DtypeWarning: Columns (1,2,3,4,5,6,7,8,9,10,11,12,14,15,17,18,20,22,23,25,27,29,31,33,35,37,39,41,43,44,45,47,49) have mixed types. Specify dtype option on import or set low_memory=False.\n",
      "  df = pd.read_csv(path)\n"
     ]
    }
   ],
   "source": [
    "path = './data/GreenhouseClimate.csv'\n",
    "df = pd.read_csv(path)"
   ],
   "metadata": {
    "collapsed": false,
    "ExecuteTime": {
     "end_time": "2024-03-14T09:50:35.227113Z",
     "start_time": "2024-03-14T09:50:35.008537Z"
    }
   },
   "id": "8f6ce3e51a8fb339",
   "execution_count": 6
  },
  {
   "cell_type": "code",
   "outputs": [
    {
     "data": {
      "text/plain": "Index(['%time', 'AssimLight', 'BlackScr', 'CO2air', 'Cum_irr', 'EC_drain_PC',\n       'EnScr', 'HumDef', 'PipeGrow', 'PipeLow', 'Rhair', 'Tair', 'Tot_PAR',\n       'Tot_PAR_Lamps', 'VentLee', 'Ventwind', 'assim_sp', 'assim_vip',\n       'co2_dos', 'co2_sp', 'co2_vip', 'dx_sp', 'dx_vip', 'int_blue_sp',\n       'int_blue_vip', 'int_farred_sp', 'int_farred_vip', 'int_red_sp',\n       'int_red_vip', 'int_white_sp', 'int_white_vip', 'pH_drain_PC',\n       'scr_blck_sp', 'scr_blck_vip', 'scr_enrg_sp', 'scr_enrg_vip',\n       't_grow_min_sp', 't_grow_min_vip', 't_heat_sp', 't_heat_vip',\n       't_rail_min_sp', 't_rail_min_vip', 't_vent_sp', 't_ventlee_vip',\n       't_ventwind_vip', 'water_sup', 'water_sup_intervals_sp_min',\n       'water_sup_intervals_vip_min', 'window_pos_lee_sp',\n       'window_pos_lee_vip'],\n      dtype='object')"
     },
     "execution_count": 7,
     "metadata": {},
     "output_type": "execute_result"
    }
   ],
   "source": [
    "df.columns"
   ],
   "metadata": {
    "collapsed": false,
    "ExecuteTime": {
     "end_time": "2024-03-14T09:50:36.874986Z",
     "start_time": "2024-03-14T09:50:36.866231Z"
    }
   },
   "id": "7624cfa3e6bb4b3a",
   "execution_count": 7
  },
  {
   "cell_type": "code",
   "outputs": [],
   "source": [
    "temp = df.Tair"
   ],
   "metadata": {
    "collapsed": false,
    "ExecuteTime": {
     "end_time": "2024-03-12T17:39:23.031074Z",
     "start_time": "2024-03-12T17:39:23.025871Z"
    }
   },
   "id": "68319af0b38f9bd9",
   "execution_count": 11
  },
  {
   "cell_type": "code",
   "outputs": [
    {
     "data": {
      "text/plain": "0    21.0\n1    21.5\n2    21.6\n3    21.3\n4    21.4\n5    21.3\n6    21.2\n7    21.1\n8    20.9\n9    21.0\nName: Tair, dtype: object"
     },
     "execution_count": 14,
     "metadata": {},
     "output_type": "execute_result"
    }
   ],
   "source": [
    "temp.head(10)"
   ],
   "metadata": {
    "collapsed": false,
    "ExecuteTime": {
     "end_time": "2024-03-12T17:42:37.823847Z",
     "start_time": "2024-03-12T17:42:37.816655Z"
    }
   },
   "id": "780d54b464f5fb03",
   "execution_count": 14
  },
  {
   "cell_type": "code",
   "outputs": [],
   "source": [
    "hum = df.Rhair"
   ],
   "metadata": {
    "collapsed": false,
    "ExecuteTime": {
     "end_time": "2024-03-12T17:40:06.244216Z",
     "start_time": "2024-03-12T17:40:06.240480Z"
    }
   },
   "id": "c65fb2584558876a",
   "execution_count": 13
  },
  {
   "cell_type": "code",
   "outputs": [],
   "source": [],
   "metadata": {
    "collapsed": false
   },
   "id": "d5a3784a6a2c3836"
  }
 ],
 "metadata": {
  "kernelspec": {
   "display_name": "Python 3",
   "language": "python",
   "name": "python3"
  },
  "language_info": {
   "codemirror_mode": {
    "name": "ipython",
    "version": 2
   },
   "file_extension": ".py",
   "mimetype": "text/x-python",
   "name": "python",
   "nbconvert_exporter": "python",
   "pygments_lexer": "ipython2",
   "version": "2.7.6"
  }
 },
 "nbformat": 4,
 "nbformat_minor": 5
}
